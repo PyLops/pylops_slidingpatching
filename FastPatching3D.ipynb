{
 "cells": [
  {
   "cell_type": "markdown",
   "id": "82506aa5",
   "metadata": {},
   "source": [
    "## Patching 3D"
   ]
  },
  {
   "cell_type": "code",
   "execution_count": 28,
   "id": "78f3b931",
   "metadata": {},
   "outputs": [
    {
     "name": "stdout",
     "output_type": "stream",
     "text": [
      "The autoreload extension is already loaded. To reload it, use:\n",
      "  %reload_ext autoreload\n"
     ]
    }
   ],
   "source": [
    "%load_ext autoreload\n",
    "%autoreload 2\n",
    "%matplotlib inline\n",
    "\n",
    "import warnings\n",
    "warnings.filterwarnings('ignore')\n",
    "\n",
    "import numpy as np\n",
    "import matplotlib.pyplot as plt\n",
    "import scipy as sp\n",
    "import pylops\n",
    "\n",
    "from pylops.signalprocessing.patch3d import patch3d_design\n",
    "from pylops.utils.describe import describe\n",
    "\n",
    "from pylops.signalprocessing import Patch3D\n",
    "from patch3dol import Patch3D as Patch3DOLD\n",
    "\n",
    "USE_CUPY = True"
   ]
  },
  {
   "cell_type": "code",
   "execution_count": 29,
   "id": "83744f64",
   "metadata": {},
   "outputs": [],
   "source": [
    "if USE_CUPY:\n",
    "    import cupy as np\n",
    "    from cupyx.profiler import benchmark\n",
    "    np_asarray = np.asarray\n",
    "    np_asnumpy = np.asnumpy\n",
    "    np_float = np.float32\n",
    "    np_floatc = np.complex64\n",
    "    mempool = np.get_default_memory_pool()\n",
    "    fftengine = 'numpy'\n",
    "    fftkwargs = dict()\n",
    "else:\n",
    "    np_asarray = np.asarray\n",
    "    np_asnumpy = np.asarray\n",
    "    np_float = np.float64\n",
    "    np_floatc = np.complex128\n",
    "    fftengine = 'scipy'\n",
    "    fftkwargs = dict(workers=16)\n"
   ]
  },
  {
   "cell_type": "code",
   "execution_count": 30,
   "id": "e4d7427b",
   "metadata": {},
   "outputs": [],
   "source": [
    "def bench_Op(Op, x):\n",
    "    return Op @ x\n",
    "\n",
    "def bench_OpH(Op, x):\n",
    "    return Op.H @ x"
   ]
  },
  {
   "cell_type": "code",
   "execution_count": 31,
   "id": "b29494ab",
   "metadata": {},
   "outputs": [
    {
     "name": "stderr",
     "output_type": "stream",
     "text": [
      "WARNING: 15-2-6 windows required...\n",
      "WARNING: data wins - start:[  0  32  64  96 128 160 192 224 256 288 320 352 384 416 448], end:[ 42  74 106 138 170 202 234 266 298 330 362 394 426 458 490] / start:[ 0 32], end:[42 74] / start:[  0  30  60  90 120 150], end:[ 34  64  94 124 154 184]\n",
      "WARNING: model wins - start:[  0  64 128 192 256 320 384 448 512 576 640 704 768 832 896], end:[ 64 128 192 256 320 384 448 512 576 640 704 768 832 896 960] / start:[ 0 64], end:[ 64 128] / start:[  0  64 128 192 256 320], end:[ 64 128 192 256 320 384]\n"
     ]
    }
   ],
   "source": [
    "nwin = (42, 42, 34)\n",
    "nover = (10, 10, 4)\n",
    "nop = (64, 64, 64)\n",
    "dimsd = (500, 100, 200) # small\n",
    "#dimsd = (1000, 500, 500) # large\n",
    "tapertype = 'cosine'\n",
    "\n",
    "y = np.arange(dimsd[0]*dimsd[1]*dimsd[2]).reshape(dimsd).astype(np_float)\n",
    "\n",
    "nwins, dims, mwin_inends, dwin_inends = patch3d_design(dimsd, nwin, nover, nop)\n",
    "\n",
    "# no operator broadcast\n",
    "Op = pylops.signalprocessing.FFTND(nwin, nffts=nop, \n",
    "                                   engine=fftengine, \n",
    "                                   dtype=np_floatc, \n",
    "                                   **fftkwargs)\n",
    "Slid = Patch3DOLD(Op.H, dims, dimsd, nwin, nover, nop, tapertype='cosine')\n",
    "Slid1a = Patch3D(Op.H, dims, dimsd, nwin, nover, nop, tapertype='cosine')\n",
    "\n",
    "# with operator broadcast\n",
    "Op = pylops.signalprocessing.FFTND((*nwins, *nwin), nffts=nop, \n",
    "                                   engine=fftengine,\n",
    "                                   dtype=np_floatc, \n",
    "                                   **fftkwargs)\n",
    "Slid1b = Patch3D(Op.H, dims, dimsd, nwin, nover, nop, tapertype='cosine')\n",
    "\n",
    "x = Slid.H * y.ravel()"
   ]
  },
  {
   "cell_type": "code",
   "execution_count": 32,
   "id": "dfcd25c4",
   "metadata": {},
   "outputs": [
    {
     "name": "stdout",
     "output_type": "stream",
     "text": [
      "True True\n",
      "True True\n"
     ]
    }
   ],
   "source": [
    "print(np.allclose(Slid @ x, Slid1a @ x), np.allclose(Slid.H @ y, Slid1a.H @ y))\n",
    "print(np.allclose(Slid @ x, Slid1b @ x), np.allclose(Slid.H @ y, Slid1b.H @ y))"
   ]
  },
  {
   "cell_type": "code",
   "execution_count": 33,
   "id": "7eff976a",
   "metadata": {
    "scrolled": false
   },
   "outputs": [
    {
     "name": "stdout",
     "output_type": "stream",
     "text": [
      "bench_Op            :    CPU: 98667.811 us   +/- 846.243 (min: 97299.004 / max: 100450.822) us     GPU-0: 104002.600 us   +/- 846.976 (min: 102630.402 / max: 105793.533) us\n",
      "bench_Op            :    CPU: 80825.131 us   +/- 886.752 (min: 78533.284 / max: 81987.781) us     GPU-0: 80831.898 us   +/- 886.924 (min: 78539.619 / max: 81996.033) us\n",
      "bench_Op            :    CPU:  7215.120 us   +/- 342.974 (min:  6863.846 / max:  8490.250) us     GPU-0:  7222.347 us   +/- 343.207 (min:  6870.848 / max:  8498.112) us\n"
     ]
    }
   ],
   "source": [
    "if not USE_CUPY:\n",
    "    %timeit -n 5 -r 10 Slid * x # OLD\n",
    "    %timeit -n 5 -r 10 Slid1a * x # NEW\n",
    "    %timeit -n 5 -r 10 Slid1b * x # NEW with Op broadcasted\n",
    "else:\n",
    "    print(benchmark(bench_Op, (Slid, x,), n_repeat=20))\n",
    "    print(benchmark(bench_Op, (Slid1a, x,), n_repeat=20))\n",
    "    print(benchmark(bench_Op, (Slid1b, x,), n_repeat=20))"
   ]
  },
  {
   "cell_type": "code",
   "execution_count": 34,
   "id": "05f63666",
   "metadata": {},
   "outputs": [
    {
     "name": "stdout",
     "output_type": "stream",
     "text": [
      "bench_OpH           :    CPU: 67042.146 us   +/- 848.052 (min: 65822.656 / max: 69077.217) us     GPU-0: 67048.936 us   +/- 848.322 (min: 65829.086 / max: 69084.160) us\n",
      "bench_OpH           :    CPU: 41348.440 us   +/- 565.801 (min: 40602.660 / max: 42461.556) us     GPU-0: 41355.630 us   +/- 565.841 (min: 40609.791 / max: 42468.513) us\n",
      "bench_OpH           :    CPU:   643.734 us   +/- 26.571 (min:   622.674 / max:   716.201) us     GPU-0:  6887.696 us   +/- 17.406 (min:  6873.088 / max:  6938.624) us\n"
     ]
    }
   ],
   "source": [
    "if not USE_CUPY:\n",
    "    %timeit -n 5 -r 10 Slid.H * y # OLD\n",
    "    %timeit -n 5 -r 10 Slid1a.H * y # NEW\n",
    "    %timeit -n 5 -r 10 Slid1b.H * y # NEW with Op broadcasted\n",
    "else:\n",
    "    print(benchmark(bench_OpH, (Slid, y,), n_repeat=20))\n",
    "    print(benchmark(bench_OpH, (Slid1a, y,), n_repeat=20))\n",
    "    print(benchmark(bench_OpH, (Slid1b, y,), n_repeat=20))"
   ]
  }
 ],
 "metadata": {
  "kernelspec": {
   "display_name": "Python 3 (ipykernel)",
   "language": "python",
   "name": "python3"
  },
  "language_info": {
   "codemirror_mode": {
    "name": "ipython",
    "version": 3
   },
   "file_extension": ".py",
   "mimetype": "text/x-python",
   "name": "python",
   "nbconvert_exporter": "python",
   "pygments_lexer": "ipython3",
   "version": "3.9.19"
  },
  "toc": {
   "base_numbering": 1,
   "nav_menu": {},
   "number_sections": true,
   "sideBar": true,
   "skip_h1_title": false,
   "title_cell": "Table of Contents",
   "title_sidebar": "Contents",
   "toc_cell": false,
   "toc_position": {},
   "toc_section_display": true,
   "toc_window_display": false
  }
 },
 "nbformat": 4,
 "nbformat_minor": 5
}
