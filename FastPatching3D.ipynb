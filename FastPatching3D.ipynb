{
 "cells": [
  {
   "cell_type": "markdown",
   "id": "82506aa5",
   "metadata": {},
   "source": [
    "## Patching 3D"
   ]
  },
  {
   "cell_type": "code",
   "execution_count": 1,
   "id": "78f3b931",
   "metadata": {},
   "outputs": [],
   "source": [
    "%load_ext autoreload\n",
    "%autoreload 2\n",
    "%matplotlib inline\n",
    "\n",
    "import warnings\n",
    "warnings.filterwarnings('ignore')\n",
    "\n",
    "import numpy as np\n",
    "import matplotlib.pyplot as plt\n",
    "import scipy as sp\n",
    "import pylops\n",
    "\n",
    "from pylops.signalprocessing.patch3d import patch3d_design\n",
    "from pylops.utils.describe import describe\n",
    "\n",
    "from pylops.signalprocessing import Patch3D\n",
    "from patch3dol import Patch3D as Patch3DOLD"
   ]
  },
  {
   "cell_type": "code",
   "execution_count": 14,
   "id": "b29494ab",
   "metadata": {},
   "outputs": [
    {
     "name": "stderr",
     "output_type": "stream",
     "text": [
      "WARNING: 15-2-6 windows required...\n",
      "WARNING: data wins - start:[  0  32  64  96 128 160 192 224 256 288 320 352 384 416 448], end:[ 42  74 106 138 170 202 234 266 298 330 362 394 426 458 490] / start:[ 0 32], end:[42 74] / start:[  0  30  60  90 120 150], end:[ 34  64  94 124 154 184]\n",
      "WARNING: model wins - start:[  0  64 128 192 256 320 384 448 512 576 640 704 768 832 896], end:[ 64 128 192 256 320 384 448 512 576 640 704 768 832 896 960] / start:[ 0 64], end:[ 64 128] / start:[  0  64 128 192 256 320], end:[ 64 128 192 256 320 384]\n"
     ]
    }
   ],
   "source": [
    "nwin = (42, 42, 34)\n",
    "nover = (10, 10, 4)\n",
    "nop = (64, 64, 64)\n",
    "dimsd = (500, 100, 200) # small\n",
    "#dimsd = (1000, 500, 500) # large\n",
    "tapertype = 'cosine'\n",
    "\n",
    "y = np.arange(dimsd[0]*dimsd[1]*dimsd[2]).reshape(dimsd)\n",
    "\n",
    "nwins, dims, mwin_inends, dwin_inends = patch3d_design(dimsd, nwin, nover, nop)\n",
    "\n",
    "# no operator broadcast\n",
    "Op = pylops.signalprocessing.FFTND(nwin, nffts=nop, workers=4)\n",
    "Slid = Patch3DOLD(Op.H, dims, dimsd, nwin, nover, nop, tapertype='cosine')\n",
    "Slid1a = Patch3D(Op.H, dims, dimsd, nwin, nover, nop, tapertype='cosine')\n",
    "\n",
    "# with operator broadcast\n",
    "Op = pylops.signalprocessing.FFTND((*nwins, *nwin), nffts=nop, workers=4)\n",
    "Slid1b = Patch3D(Op.H, dims, dimsd, nwin, nover, nop, tapertype='cosine')\n",
    "\n",
    "x = Slid.H * y.ravel()"
   ]
  },
  {
   "cell_type": "code",
   "execution_count": 15,
   "id": "dfcd25c4",
   "metadata": {},
   "outputs": [
    {
     "name": "stdout",
     "output_type": "stream",
     "text": [
      "True True\n",
      "True True\n"
     ]
    }
   ],
   "source": [
    "print(np.allclose(Slid @ x, Slid1a @ x), np.allclose(Slid.H @ y, Slid1a.H @ y))\n",
    "print(np.allclose(Slid @ x, Slid1b @ x), np.allclose(Slid.H @ y, Slid1b.H @ y))"
   ]
  },
  {
   "cell_type": "code",
   "execution_count": 16,
   "id": "7eff976a",
   "metadata": {
    "scrolled": false
   },
   "outputs": [
    {
     "name": "stdout",
     "output_type": "stream",
     "text": [
      "1.84 s ± 298 ms per loop (mean ± std. dev. of 3 runs, 2 loops each)\n",
      "462 ms ± 24 ms per loop (mean ± std. dev. of 3 runs, 2 loops each)\n",
      "846 ms ± 79.4 ms per loop (mean ± std. dev. of 3 runs, 2 loops each)\n"
     ]
    }
   ],
   "source": [
    "%timeit -n 2 -r 3 Slid * x # OLD\n",
    "%timeit -n 2 -r 3 Slid1a * x # NEW\n",
    "%timeit -n 2 -r 3 Slid1b * x # NEW with Op broadcasted"
   ]
  },
  {
   "cell_type": "code",
   "execution_count": 17,
   "id": "05f63666",
   "metadata": {},
   "outputs": [
    {
     "name": "stdout",
     "output_type": "stream",
     "text": [
      "860 ms ± 77.9 ms per loop (mean ± std. dev. of 3 runs, 2 loops each)\n",
      "583 ms ± 11.3 ms per loop (mean ± std. dev. of 3 runs, 2 loops each)\n",
      "432 ms ± 9.85 ms per loop (mean ± std. dev. of 3 runs, 2 loops each)\n"
     ]
    }
   ],
   "source": [
    "%timeit -n 2 -r 3 Slid.H * y # OLD\n",
    "%timeit -n 2 -r 3 Slid1a.H * y # NEW\n",
    "%timeit -n 2 -r 3 Slid1b.H * y # NEW with Op broadcasted"
   ]
  }
 ],
 "metadata": {
  "kernelspec": {
   "display_name": "Python 3 (ipykernel)",
   "language": "python",
   "name": "python3"
  },
  "language_info": {
   "codemirror_mode": {
    "name": "ipython",
    "version": 3
   },
   "file_extension": ".py",
   "mimetype": "text/x-python",
   "name": "python",
   "nbconvert_exporter": "python",
   "pygments_lexer": "ipython3",
   "version": "3.9.18"
  },
  "toc": {
   "base_numbering": 1,
   "nav_menu": {},
   "number_sections": true,
   "sideBar": true,
   "skip_h1_title": false,
   "title_cell": "Table of Contents",
   "title_sidebar": "Contents",
   "toc_cell": false,
   "toc_position": {},
   "toc_section_display": true,
   "toc_window_display": false
  }
 },
 "nbformat": 4,
 "nbformat_minor": 5
}
