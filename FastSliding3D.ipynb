{
 "cells": [
  {
   "cell_type": "markdown",
   "id": "82506aa5",
   "metadata": {},
   "source": [
    "## Sliding 3D"
   ]
  },
  {
   "cell_type": "code",
   "execution_count": 5,
   "id": "78f3b931",
   "metadata": {},
   "outputs": [
    {
     "name": "stdout",
     "output_type": "stream",
     "text": [
      "The autoreload extension is already loaded. To reload it, use:\n",
      "  %reload_ext autoreload\n"
     ]
    }
   ],
   "source": [
    "%load_ext autoreload\n",
    "%autoreload 2\n",
    "%matplotlib inline\n",
    "\n",
    "import warnings\n",
    "warnings.filterwarnings('ignore')\n",
    "\n",
    "import numpy as np\n",
    "import matplotlib.pyplot as plt\n",
    "import scipy as sp\n",
    "import pylops\n",
    "\n",
    "from pylops.signalprocessing.sliding3d import sliding3d_design\n",
    "from pylops.utils.describe import describe\n",
    "\n",
    "from pylops.signalprocessing import Sliding3D\n",
    "from sliding3dold import Sliding3D as Sliding3DOLD\n",
    "\n",
    "USE_CUPY = True"
   ]
  },
  {
   "cell_type": "code",
   "execution_count": 6,
   "id": "3820e2a7",
   "metadata": {},
   "outputs": [],
   "source": [
    "if USE_CUPY:\n",
    "    import cupy as np\n",
    "    from cupyx.profiler import benchmark\n",
    "    np_asarray = np.asarray\n",
    "    np_asnumpy = np.asnumpy\n",
    "    np_float = np.float32\n",
    "    np_floatc = np.complex64\n",
    "    mempool = np.get_default_memory_pool()\n",
    "    fftengine = 'numpy'\n",
    "    fftkwargs = dict()\n",
    "else:\n",
    "    np_asarray = np.asarray\n",
    "    np_asnumpy = np.asarray\n",
    "    np_float = np.float64\n",
    "    np_floatc = np.complex128\n",
    "    fftengine = 'scipy'\n",
    "    fftkwargs = dict(workers=16)"
   ]
  },
  {
   "cell_type": "code",
   "execution_count": 7,
   "id": "30c2a7e6",
   "metadata": {},
   "outputs": [],
   "source": [
    "def bench_Op(Op, x):\n",
    "    return Op @ x\n",
    "\n",
    "def bench_OpH(Op, x):\n",
    "    return Op.H @ x"
   ]
  },
  {
   "cell_type": "code",
   "execution_count": 8,
   "id": "b29494ab",
   "metadata": {},
   "outputs": [
    {
     "name": "stderr",
     "output_type": "stream",
     "text": [
      "WARNING: 25-26 windows required...\n",
      "WARNING: data wins - start:[  0  15  30  45  60  75  90 105 120 135 150 165 180 195 210 225 240 255\n",
      " 270 285 300 315 330 345 360], end:[ 26  41  56  71  86 101 116 131 146 161 176 191 206 221 236 251 266 281\n",
      " 296 311 326 341 356 371 386] / start:[  0  15  30  45  60  75  90 105 120 135 150 165 180 195 210 225 240 255\n",
      " 270 285 300 315 330 345 360 375], end:[ 24  39  54  69  84  99 114 129 144 159 174 189 204 219 234 249 264 279\n",
      " 294 309 324 339 354 369 384 399]\n",
      "WARNING: model wins - start:[  0  32  64  96 128 160 192 224 256 288 320 352 384 416 448 480 512 544\n",
      " 576 608 640 672 704 736 768], end:[ 32  64  96 128 160 192 224 256 288 320 352 384 416 448 480 512 544 576\n",
      " 608 640 672 704 736 768 800] / start:[  0  32  64  96 128 160 192 224 256 288 320 352 384 416 448 480 512 544\n",
      " 576 608 640 672 704 736 768 800], end:[ 32  64  96 128 160 192 224 256 288 320 352 384 416 448 480 512 544 576\n",
      " 608 640 672 704 736 768 800 832]\n"
     ]
    }
   ],
   "source": [
    "nwin = (26, 24)\n",
    "nover = (11, 9)\n",
    "nop = 32\n",
    "#dimsd = (200, 200, 32) # small\n",
    "dimsd = (400, 400, 32) # large\n",
    "tapertype = None # 'cosine' # cannot match old for other than None, as edges were not implemented...\n",
    "\n",
    "y = np.arange(dimsd[0]*dimsd[1]*dimsd[2]).reshape(dimsd).astype(np_float)\n",
    "\n",
    "nwins, dims, _, _ = sliding3d_design(dimsd, nwin, nover, (nop, nop, (nop + 2) // 2))\n",
    "\n",
    "# no operator broadcast\n",
    "Op = pylops.signalprocessing.FFTND((nwin[0], nwin[1], dimsd[2]), nffts=(nop, nop, nop),\n",
    "                                   axes=(-3, -2, -1), sampling=(1, 1, 1), \n",
    "                                   real=True, engine=fftengine,\n",
    "                                   dtype=np_floatc, **fftkwargs)\n",
    "Slid = Sliding3DOLD(\n",
    "    Op.H, dims, dimsd, nwin, nover, (nop, nop, (nop + 2) // 2), tapertype=tapertype)\n",
    "Slid1a = Sliding3D(Op.H, dims, dimsd, nwin, nover, (nop, (nop + 2) // 2), tapertype=tapertype)\n",
    "\n",
    "# with operator broadcast\n",
    "Op = pylops.signalprocessing.FFTND((nwins[0], nwins[1], nwin[0], nwin[1], dimsd[2]), nffts=(nop, nop, nop), \n",
    "                                   axes=(-3, -2, -1), sampling=(1, 1, 1), real=True, \n",
    "                                   engine=fftengine,\n",
    "                                   dtype=np_floatc, **fftkwargs)\n",
    "Slid1b = Sliding3D(Op.H, dims, dimsd, nwin, nover, (nop, nop, (nop + 2) // 2), tapertype=tapertype)\n",
    "\n",
    "x = Slid.H * y.ravel()"
   ]
  },
  {
   "cell_type": "code",
   "execution_count": 9,
   "id": "dfcd25c4",
   "metadata": {},
   "outputs": [
    {
     "name": "stdout",
     "output_type": "stream",
     "text": [
      "True True\n",
      "True True\n"
     ]
    }
   ],
   "source": [
    "print(np.allclose(Slid @ x, Slid1a @ x), np.allclose(Slid.H @ y, Slid1a.H @ y))\n",
    "print(np.allclose(Slid @ x, Slid1b @ x), np.allclose(Slid.H @ y, Slid1b.H @ y))"
   ]
  },
  {
   "cell_type": "code",
   "execution_count": 10,
   "id": "7eff976a",
   "metadata": {
    "scrolled": false
   },
   "outputs": [
    {
     "name": "stdout",
     "output_type": "stream",
     "text": [
      "bench_Op            :    CPU: 334910.708 us   +/- 2520.416 (min: 330315.383 / max: 340415.027) us     GPU-0: 338737.880 us   +/- 2491.911 (min: 334217.377 / max: 344182.770) us\n",
      "bench_Op            :    CPU: 303479.441 us   +/- 2227.488 (min: 299053.564 / max: 308423.038) us     GPU-0: 303485.713 us   +/- 2228.447 (min: 299058.167 / max: 308430.603) us\n",
      "bench_Op            :    CPU: 14044.057 us   +/- 508.498 (min: 13504.756 / max: 15811.414) us     GPU-0: 14050.869 us   +/- 508.810 (min: 13510.688 / max: 15818.752) us\n"
     ]
    }
   ],
   "source": [
    "if not USE_CUPY:\n",
    "    %timeit -n 5 -r 10 Slid * x # OLD\n",
    "    %timeit -n 5 -r 10 Slid1a * x # NEW\n",
    "    %timeit -n 5 -r 10 Slid1b * x # NEW with Op broadcasted\n",
    "else:\n",
    "    print(benchmark(bench_Op, (Slid, x,), n_repeat=20))\n",
    "    print(benchmark(bench_Op, (Slid1a, x,), n_repeat=20))\n",
    "    print(benchmark(bench_Op, (Slid1b, x,), n_repeat=20))"
   ]
  },
  {
   "cell_type": "code",
   "execution_count": 11,
   "id": "05f63666",
   "metadata": {},
   "outputs": [
    {
     "name": "stdout",
     "output_type": "stream",
     "text": [
      "bench_OpH           :    CPU: 216526.531 us   +/- 1794.010 (min: 214167.524 / max: 220645.720) us     GPU-0: 216533.792 us   +/- 1795.673 (min: 214174.438 / max: 220652.283) us\n",
      "bench_OpH           :    CPU: 188689.008 us   +/- 1378.948 (min: 185586.305 / max: 190813.516) us     GPU-0: 188695.734 us   +/- 1378.460 (min: 185600.067 / max: 190820.160) us\n",
      "bench_OpH           :    CPU:   665.198 us   +/- 19.420 (min:   631.155 / max:   708.099) us     GPU-0:  2263.472 us   +/- 13.848 (min:  2240.512 / max:  2310.144) us\n"
     ]
    }
   ],
   "source": [
    "if not USE_CUPY:\n",
    "    %timeit -n 5 -r 10 Slid.H * y # OLD\n",
    "    %timeit -n 5 -r 10 Slid1a.H * y # NEW\n",
    "    %timeit -n 5 -r 10 Slid1b.H * y # NEW with Op broadcasted\n",
    "else:\n",
    "    print(benchmark(bench_OpH, (Slid, y,), n_repeat=20))\n",
    "    print(benchmark(bench_OpH, (Slid1a, y,), n_repeat=20))\n",
    "    print(benchmark(bench_OpH, (Slid1b, y,), n_repeat=20))"
   ]
  },
  {
   "cell_type": "code",
   "execution_count": 12,
   "id": "f08afe06",
   "metadata": {},
   "outputs": [
    {
     "name": "stderr",
     "output_type": "stream",
     "text": [
      "WARNING: 12-12 windows required...\n",
      "WARNING: data wins - start:[  0  15  30  45  60  75  90 105 120 135 150 165], end:[ 26  41  56  71  86 101 116 131 146 161 176 191] / start:[  0  15  30  45  60  75  90 105 120 135 150 165], end:[ 24  39  54  69  84  99 114 129 144 159 174 189]\n",
      "WARNING: model wins - start:[  0  26  52  78 104 130 156 182 208 234 260 286], end:[ 26  52  78 104 130 156 182 208 234 260 286 312] / start:[  0  24  48  72  96 120 144 168 192 216 240 264], end:[ 24  48  72  96 120 144 168 192 216 240 264 288]\n"
     ]
    }
   ],
   "source": [
    "# Checking sliding with taper\n",
    "nwin = (26, 24)\n",
    "nover = (11, 9)\n",
    "nop = 32\n",
    "dimsd = (191, 189, 32) # small\n",
    "tapertype = 'cosine'\n",
    "\n",
    "nwins, dims, _, _ = sliding3d_design(dimsd, nwin, nover, (nwin[0], nwin[1], dimsd[2]))"
   ]
  },
  {
   "cell_type": "code",
   "execution_count": 13,
   "id": "2b6e62d6",
   "metadata": {},
   "outputs": [
    {
     "data": {
      "text/plain": [
       "array([1., 1.])"
      ]
     },
     "execution_count": 13,
     "metadata": {},
     "output_type": "execute_result"
    }
   ],
   "source": [
    "# no operator broadcast\n",
    "Op = pylops.Identity((nwin[0], nwin[1], dimsd[2]))\n",
    "Slid1a = Sliding3D(Op.H, dims, dimsd, nwin, nover, (nwin[1], dimsd[2]), \n",
    "                   tapertype=tapertype)\n",
    "\n",
    "x = np.ones(Slid1a.dims) + 0.\n",
    "y = Slid1a @ x\n",
    "\n",
    "np.unique(y)"
   ]
  },
  {
   "cell_type": "code",
   "execution_count": 14,
   "id": "2c3e1ac4",
   "metadata": {},
   "outputs": [
    {
     "data": {
      "text/plain": [
       "array([1., 1.])"
      ]
     },
     "execution_count": 14,
     "metadata": {},
     "output_type": "execute_result"
    }
   ],
   "source": [
    "# no operator broadcast\n",
    "Op = pylops.Identity((nwins[0], nwins[1], nwin[0], nwin[1], dimsd[2]))\n",
    "Slid1b = Sliding3D(Op.H, dims, dimsd, nwin, nover, (nwin[1], dimsd[2]), \n",
    "                   tapertype=tapertype)\n",
    "\n",
    "x = np.ones(Slid1a.dims) + 0.\n",
    "y = Slid1a @ x\n",
    "\n",
    "np.unique(y)"
   ]
  }
 ],
 "metadata": {
  "kernelspec": {
   "display_name": "Python 3 (ipykernel)",
   "language": "python",
   "name": "python3"
  },
  "language_info": {
   "codemirror_mode": {
    "name": "ipython",
    "version": 3
   },
   "file_extension": ".py",
   "mimetype": "text/x-python",
   "name": "python",
   "nbconvert_exporter": "python",
   "pygments_lexer": "ipython3",
   "version": "3.9.19"
  },
  "toc": {
   "base_numbering": 1,
   "nav_menu": {},
   "number_sections": true,
   "sideBar": true,
   "skip_h1_title": false,
   "title_cell": "Table of Contents",
   "title_sidebar": "Contents",
   "toc_cell": false,
   "toc_position": {},
   "toc_section_display": true,
   "toc_window_display": false
  }
 },
 "nbformat": 4,
 "nbformat_minor": 5
}
