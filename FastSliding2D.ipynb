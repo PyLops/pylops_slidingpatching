{
 "cells": [
  {
   "cell_type": "markdown",
   "id": "82506aa5",
   "metadata": {},
   "source": [
    "## Sliding 2D"
   ]
  },
  {
   "cell_type": "code",
   "execution_count": 1,
   "id": "78f3b931",
   "metadata": {},
   "outputs": [],
   "source": [
    "%load_ext autoreload\n",
    "%autoreload 2\n",
    "%matplotlib inline\n",
    "\n",
    "import warnings\n",
    "warnings.filterwarnings('ignore')\n",
    "\n",
    "import numpy as np\n",
    "import matplotlib.pyplot as plt\n",
    "import scipy as sp\n",
    "import pylops\n",
    "\n",
    "from pympler import asizeof\n",
    "from pylops.signalprocessing.sliding2d import sliding2d_design\n",
    "from pylops.utils.describe import describe\n",
    "\n",
    "from pylops.signalprocessing import Sliding2D\n",
    "from sliding2dold import Sliding2D as Sliding2DOLD\n",
    "\n",
    "USE_CUPY = False"
   ]
  },
  {
   "cell_type": "code",
   "execution_count": 2,
   "id": "a5f8dee9",
   "metadata": {},
   "outputs": [],
   "source": [
    "if USE_CUPY:\n",
    "    import cupy as np\n",
    "    np_asarray = np.asarray\n",
    "    np_asnumpy = np.asnumpy\n",
    "    np_float = np.float32\n",
    "    np_floatc = np.complex64\n",
    "    mempool = np.get_default_memory_pool()\n",
    "    fftengine = 'numpy'\n",
    "else:\n",
    "    np_asarray = np.asarray\n",
    "    np_asnumpy = np.asarray\n",
    "    np_float = np.float64\n",
    "    np_floatc = np.complex128\n",
    "    fftengine = 'scipy'"
   ]
  },
  {
   "cell_type": "code",
   "execution_count": 3,
   "id": "5c0993e5",
   "metadata": {},
   "outputs": [],
   "source": [
    "def bench_Op(Op, x):\n",
    "    return Op @ x\n",
    "\n",
    "def bench_OpH(Op, x):\n",
    "    return Op.H @ x"
   ]
  },
  {
   "cell_type": "code",
   "execution_count": 10,
   "id": "d8230ac7",
   "metadata": {},
   "outputs": [],
   "source": [
    "savetaper = False\n",
    "tapertype = 'cosine'"
   ]
  },
  {
   "cell_type": "code",
   "execution_count": 11,
   "id": "6f256d81",
   "metadata": {},
   "outputs": [
    {
     "name": "stderr",
     "output_type": "stream",
     "text": [
      "WARNING: 130 windows required...\n",
      "WARNING: data wins - start:[   0   23   46   69   92  115  138  161  184  207  230  253  276  299\n",
      "  322  345  368  391  414  437  460  483  506  529  552  575  598  621\n",
      "  644  667  690  713  736  759  782  805  828  851  874  897  920  943\n",
      "  966  989 1012 1035 1058 1081 1104 1127 1150 1173 1196 1219 1242 1265\n",
      " 1288 1311 1334 1357 1380 1403 1426 1449 1472 1495 1518 1541 1564 1587\n",
      " 1610 1633 1656 1679 1702 1725 1748 1771 1794 1817 1840 1863 1886 1909\n",
      " 1932 1955 1978 2001 2024 2047 2070 2093 2116 2139 2162 2185 2208 2231\n",
      " 2254 2277 2300 2323 2346 2369 2392 2415 2438 2461 2484 2507 2530 2553\n",
      " 2576 2599 2622 2645 2668 2691 2714 2737 2760 2783 2806 2829 2852 2875\n",
      " 2898 2921 2944 2967], end:[  26   49   72   95  118  141  164  187  210  233  256  279  302  325\n",
      "  348  371  394  417  440  463  486  509  532  555  578  601  624  647\n",
      "  670  693  716  739  762  785  808  831  854  877  900  923  946  969\n",
      "  992 1015 1038 1061 1084 1107 1130 1153 1176 1199 1222 1245 1268 1291\n",
      " 1314 1337 1360 1383 1406 1429 1452 1475 1498 1521 1544 1567 1590 1613\n",
      " 1636 1659 1682 1705 1728 1751 1774 1797 1820 1843 1866 1889 1912 1935\n",
      " 1958 1981 2004 2027 2050 2073 2096 2119 2142 2165 2188 2211 2234 2257\n",
      " 2280 2303 2326 2349 2372 2395 2418 2441 2464 2487 2510 2533 2556 2579\n",
      " 2602 2625 2648 2671 2694 2717 2740 2763 2786 2809 2832 2855 2878 2901\n",
      " 2924 2947 2970 2993]\n",
      "WARNING: model wins - start:[   0   64  128  192  256  320  384  448  512  576  640  704  768  832\n",
      "  896  960 1024 1088 1152 1216 1280 1344 1408 1472 1536 1600 1664 1728\n",
      " 1792 1856 1920 1984 2048 2112 2176 2240 2304 2368 2432 2496 2560 2624\n",
      " 2688 2752 2816 2880 2944 3008 3072 3136 3200 3264 3328 3392 3456 3520\n",
      " 3584 3648 3712 3776 3840 3904 3968 4032 4096 4160 4224 4288 4352 4416\n",
      " 4480 4544 4608 4672 4736 4800 4864 4928 4992 5056 5120 5184 5248 5312\n",
      " 5376 5440 5504 5568 5632 5696 5760 5824 5888 5952 6016 6080 6144 6208\n",
      " 6272 6336 6400 6464 6528 6592 6656 6720 6784 6848 6912 6976 7040 7104\n",
      " 7168 7232 7296 7360 7424 7488 7552 7616 7680 7744 7808 7872 7936 8000\n",
      " 8064 8128 8192 8256], end:[  64  128  192  256  320  384  448  512  576  640  704  768  832  896\n",
      "  960 1024 1088 1152 1216 1280 1344 1408 1472 1536 1600 1664 1728 1792\n",
      " 1856 1920 1984 2048 2112 2176 2240 2304 2368 2432 2496 2560 2624 2688\n",
      " 2752 2816 2880 2944 3008 3072 3136 3200 3264 3328 3392 3456 3520 3584\n",
      " 3648 3712 3776 3840 3904 3968 4032 4096 4160 4224 4288 4352 4416 4480\n",
      " 4544 4608 4672 4736 4800 4864 4928 4992 5056 5120 5184 5248 5312 5376\n",
      " 5440 5504 5568 5632 5696 5760 5824 5888 5952 6016 6080 6144 6208 6272\n",
      " 6336 6400 6464 6528 6592 6656 6720 6784 6848 6912 6976 7040 7104 7168\n",
      " 7232 7296 7360 7424 7488 7552 7616 7680 7744 7808 7872 7936 8000 8064\n",
      " 8128 8192 8256 8320]\n"
     ]
    }
   ],
   "source": [
    "nwin = 26\n",
    "nover = 3\n",
    "nop = 64\n",
    "#dimsd = (300, 200) # small\n",
    "dimsd = (3000, 200) # large\n",
    "\n",
    "y = np.random.normal(0, 1, dimsd[0]*dimsd[1]).reshape(dimsd).astype(np_float)\n",
    "\n",
    "nwins, dims, _, _ = sliding2d_design(dimsd, nwin, nover, (nop, (nop + 2) // 2))\n",
    "\n",
    "# no operator broadcast\n",
    "Op = pylops.signalprocessing.FFT2D((nwin, dimsd[1]), nffts=(nop, nop), \n",
    "                                   real=True, dtype=np_floatc)\n",
    "Slid = Sliding2DOLD(Op.H, dims, dimsd, nwin, nover, tapertype=tapertype)\n",
    "Slid1a = Sliding2D(Op.H, dims, dimsd, nwin, nover, tapertype=tapertype, savetaper=savetaper)\n",
    "\n",
    "# with operator broadcast\n",
    "Op = pylops.signalprocessing.FFT2D((nwins, nwin, dimsd[1]), nffts=(nop, nop),   \n",
    "                                   axes=(-2, -1), real=True)\n",
    "Slid1b = Sliding2D(Op.H, dims, dimsd, nwin, nover, tapertype=tapertype, savetaper=savetaper)\n",
    "\n",
    "x = Slid.H * y.ravel()"
   ]
  },
  {
   "cell_type": "code",
   "execution_count": 12,
   "id": "dfcd25c4",
   "metadata": {},
   "outputs": [
    {
     "name": "stdout",
     "output_type": "stream",
     "text": [
      "True True\n",
      "True True\n"
     ]
    }
   ],
   "source": [
    "print(np.allclose(Slid @ x, Slid1a @ x), np.allclose(Slid.H @ y, Slid1a.H @ y))\n",
    "print(np.allclose(Slid @ x, Slid1b @ x), np.allclose(Slid.H @ y, Slid1b.H @ y))"
   ]
  },
  {
   "cell_type": "code",
   "execution_count": 7,
   "id": "7eff976a",
   "metadata": {
    "scrolled": false
   },
   "outputs": [
    {
     "name": "stdout",
     "output_type": "stream",
     "text": [
      "122 ms ± 2.41 ms per loop (mean ± std. dev. of 50 runs, 5 loops each)\n",
      "16.1 ms ± 1.33 ms per loop (mean ± std. dev. of 50 runs, 5 loops each)\n",
      "8.36 ms ± 1.03 ms per loop (mean ± std. dev. of 50 runs, 5 loops each)\n"
     ]
    }
   ],
   "source": [
    "if not USE_CUPY:\n",
    "    %timeit -n 5 -r 50 Slid * x # OLD\n",
    "    %timeit -n 5 -r 50 Slid1a * x # NEW\n",
    "    %timeit -n 5 -r 50 Slid1b * x # NEW with Op broadcasted\n",
    "else:\n",
    "    print(benchmark(bench_Op, (Slid, x,), n_repeat=500))\n",
    "    print(benchmark(bench_Op, (Slid1a, x,), n_repeat=500))\n",
    "    print(benchmark(bench_Op, (Slid1b, x,), n_repeat=500))"
   ]
  },
  {
   "cell_type": "code",
   "execution_count": 8,
   "id": "05f63666",
   "metadata": {},
   "outputs": [
    {
     "name": "stdout",
     "output_type": "stream",
     "text": [
      "11.1 ms ± 335 µs per loop (mean ± std. dev. of 50 runs, 5 loops each)\n",
      "8.26 ms ± 305 µs per loop (mean ± std. dev. of 50 runs, 5 loops each)\n",
      "4.05 ms ± 163 µs per loop (mean ± std. dev. of 50 runs, 5 loops each)\n"
     ]
    }
   ],
   "source": [
    "if not USE_CUPY:\n",
    "    %timeit -n 5 -r 50 Slid.H * y # OLD\n",
    "    %timeit -n 5 -r 50 Slid1a.H * y # NEW\n",
    "    %timeit -n 5 -r 50 Slid1b.H * y # NEW with Op broadcasted\n",
    "else:\n",
    "    print(benchmark(bench_OpH, (Slid, y,), n_repeat=500))\n",
    "    print(benchmark(bench_OpH, (Slid1a, y,), n_repeat=500))\n",
    "    print(benchmark(bench_OpH, (Slid1b, y,), n_repeat=500))"
   ]
  },
  {
   "cell_type": "code",
   "execution_count": 9,
   "id": "a69f6326",
   "metadata": {},
   "outputs": [
    {
     "name": "stdout",
     "output_type": "stream",
     "text": [
      "0.576624 5.418712 5.418736\n"
     ]
    }
   ],
   "source": [
    "print(asizeof.asizeof(Slid) * 1e-6, asizeof.asizeof(Slid1a) * 1e-6, asizeof.asizeof(Slid1b) * 1e-6) "
   ]
  }
 ],
 "metadata": {
  "kernelspec": {
   "display_name": "Python 3 (ipykernel)",
   "language": "python",
   "name": "python3"
  },
  "language_info": {
   "codemirror_mode": {
    "name": "ipython",
    "version": 3
   },
   "file_extension": ".py",
   "mimetype": "text/x-python",
   "name": "python",
   "nbconvert_exporter": "python",
   "pygments_lexer": "ipython3",
   "version": "3.9.18"
  },
  "toc": {
   "base_numbering": 1,
   "nav_menu": {},
   "number_sections": true,
   "sideBar": true,
   "skip_h1_title": false,
   "title_cell": "Table of Contents",
   "title_sidebar": "Contents",
   "toc_cell": false,
   "toc_position": {},
   "toc_section_display": true,
   "toc_window_display": false
  }
 },
 "nbformat": 4,
 "nbformat_minor": 5
}
